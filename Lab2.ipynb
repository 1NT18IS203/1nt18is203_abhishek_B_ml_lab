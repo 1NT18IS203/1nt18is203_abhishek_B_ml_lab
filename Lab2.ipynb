{
 "cells": [
  {
   "cell_type": "code",
   "execution_count": 28,
   "metadata": {},
   "outputs": [],
   "source": [
    "import math\n",
    "import numpy as np"
   ]
  },
  {
   "cell_type": "code",
   "execution_count": 29,
   "metadata": {},
   "outputs": [],
   "source": [
    "points = np.array([[5.9,3.2],[4.6,2.9],[6.2,2.8],[4.7,3.2],[5.5,4.2],[5.0,3.0],[4.9,3.1],[6.7,3.1],[5.1,3.8],[6.0,3.0]])\n",
    "x1,y1=6.2,3.2\n",
    "x2,y2=6.6,3.7\n",
    "x3,y3=6.5,3.0\n",
    "\n",
    "cluster1=[]\n",
    "cluster2=[]\n",
    "cluster3=[]"
   ]
  },
  {
   "cell_type": "markdown",
   "metadata": {},
   "source": [
    "## Eucledian Diatance\n"
   ]
  },
  {
   "cell_type": "code",
   "execution_count": 30,
   "metadata": {
    "scrolled": true
   },
   "outputs": [
    {
     "name": "stdout",
     "output_type": "stream",
     "text": [
      "CLUSTER 1: [[5.9, 3.2], [4.6, 2.9], [4.7, 3.2], [5.0, 3.0], [4.9, 3.1], [5.1, 3.8], [6.0, 3.0]]\n",
      "CLUSTER 2: [[5.5, 4.2]]\n",
      "CLUSTER 3: [[6.2, 2.8], [6.7, 3.1]]\n"
     ]
    }
   ],
   "source": [
    "def eduDist(a,b):\n",
    "    d1=math.sqrt((a-x1)**2+(b-y1)**2)\n",
    "    d2=math.sqrt((a-x2)**2+(b-y2)**2)\n",
    "    d3=math.sqrt((a-x3)**2+(b-y3)**2)\n",
    "    \n",
    "    minDistance=min(d1,d2,d3)\n",
    "    if minDistance==d1:\n",
    "        cluster1.append([a,b])\n",
    "    elif minDistance==d2:\n",
    "        cluster2.append([a,b])\n",
    "    else:\n",
    "        cluster3.append([a,b])\n",
    "for i,j in points:\n",
    "    eduDist(i,j)\n",
    "print('CLUSTER 1:',cluster1)\n",
    "print('CLUSTER 2:',cluster2)\n",
    "\n",
    "print('CLUSTER 3:',cluster3)\n",
    "\n",
    "    "
   ]
  },
  {
   "cell_type": "markdown",
   "metadata": {},
   "source": [
    "## Centroid For Cluster After 1st Iteration"
   ]
  },
  {
   "cell_type": "code",
   "execution_count": 31,
   "metadata": {},
   "outputs": [
    {
     "name": "stdout",
     "output_type": "stream",
     "text": [
      "Centroid of cluster 1 [5.171, 3.171]\n",
      "Centroid of cluster 2 [5.5, 4.2]\n",
      "Centroid of cluster 3 [6.45, 2.95]\n"
     ]
    }
   ],
   "source": [
    "def findcentroid(cluster):\n",
    "    sumx=0\n",
    "    sumy=0\n",
    "    for i,j in cluster:\n",
    "        sumx=sumx+i\n",
    "        sumy=sumy+j\n",
    "    centX=round(sumx/len(cluster),3)\n",
    "    centY=round(sumy/len(cluster),3)\n",
    "    cent=[centX,centY]\n",
    "    return cent\n",
    "cent1=findcentroid(cluster1)\n",
    "cent2=findcentroid(cluster2)\n",
    "cent3=findcentroid(cluster3)\n",
    "print('Centroid of cluster 1',cent1)\n",
    "print('Centroid of cluster 2',cent2)\n",
    "print('Centroid of cluster 3',cent3)\n",
    "\n",
    "\n",
    "\n"
   ]
  },
  {
   "cell_type": "markdown",
   "metadata": {},
   "source": [
    "## Centroid For Cluster After 2nd Iteration"
   ]
  },
  {
   "cell_type": "code",
   "execution_count": 32,
   "metadata": {},
   "outputs": [
    {
     "name": "stdout",
     "output_type": "stream",
     "text": [
      "cluster1: [[5.9, 3.2], [4.7, 3.2], [4.9, 3.1], [6.7, 3.1]]\n",
      "cluster2: [[5.5, 4.2], [5.1, 3.8]]\n",
      "cluster3: [[4.6, 2.9], [6.2, 2.8], [5.0, 3.0], [6.0, 3.0]]\n",
      "\n",
      "Centroid  [5.3, 4.0]\n"
     ]
    }
   ],
   "source": [
    "cluster1=[]\n",
    "cluster2=[]\n",
    "cluster3=[]\n",
    "\n",
    "x1,y1=cent1=[0],cent1[1]\n",
    "x2,y2=cent2=[0],cent2[1]\n",
    "x3,y3=cent3=[0],cent3[1]\n",
    "\n",
    "for i,j in points:\n",
    "    eduDist(i,j)\n",
    "    \n",
    "print('cluster1:',cluster1)\n",
    "print('cluster2:',cluster2)\n",
    "print('cluster3:',cluster3)\n",
    "\n",
    "cent1=findcentroid(cluster1)\n",
    "cent2=findcentroid(cluster2)\n",
    "cent3=findcentroid(cluster3)\n",
    "\n",
    "print('\\nCentroid ',cent2)\n",
    "\n",
    "\n"
   ]
  },
  {
   "cell_type": "markdown",
   "metadata": {},
   "source": [
    "## Centroid For Cluster After 3rd Iteration"
   ]
  },
  {
   "cell_type": "code",
   "execution_count": 27,
   "metadata": {},
   "outputs": [
    {
     "name": "stdout",
     "output_type": "stream",
     "text": [
      "\n",
      "Centroid  [5.45, 2.925]\n"
     ]
    }
   ],
   "source": [
    "for i in range(50):\n",
    "    cluster1=[]\n",
    "    cluster2=[]\n",
    "    cluster3=[]\n",
    "\n",
    "    x1,y1=cent1=[0],cent1[1]\n",
    "    x2,y2=cent2=[0],cent2[1]\n",
    "    x3,y3=cent3=[0],cent3[1]\n",
    "\n",
    "    for i,j in points:\n",
    "        eduDist(i,j)\n",
    "\n",
    "    cent1=findcentroid(cluster1)\n",
    "    cent2=findcentroid(cluster2)\n",
    "    cent3=findcentroid(cluster3)\n",
    "\n",
    "print('\\nCentroid ',cent3)\n"
   ]
  },
  {
   "cell_type": "code",
   "execution_count": null,
   "metadata": {},
   "outputs": [],
   "source": []
  }
 ],
 "metadata": {
  "kernelspec": {
   "display_name": "Python 3",
   "language": "python",
   "name": "python3"
  },
  "language_info": {
   "codemirror_mode": {
    "name": "ipython",
    "version": 3
   },
   "file_extension": ".py",
   "mimetype": "text/x-python",
   "name": "python",
   "nbconvert_exporter": "python",
   "pygments_lexer": "ipython3",
   "version": "3.8.5"
  }
 },
 "nbformat": 4,
 "nbformat_minor": 4
}
