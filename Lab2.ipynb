{
 "cells": [
  {
   "cell_type": "markdown",
   "metadata": {},
   "source": [
    "## Bubble Sort\n"
   ]
  },
  {
   "cell_type": "code",
   "execution_count": 3,
   "metadata": {},
   "outputs": [
    {
     "data": {
      "text/plain": [
       "[1, 1, 2, 2, 3, 5, 6, 9, 10]"
      ]
     },
     "execution_count": 3,
     "metadata": {},
     "output_type": "execute_result"
    }
   ],
   "source": [
    "list=[3,1,2,9,5,6,10,2,1]\n",
    "n=0\n",
    "for i in list:\n",
    "    n+=1\n",
    "\n",
    "def bsort(list):\n",
    "    for i in range (0,n):\n",
    "        for j in range(0,n-i-1):\n",
    "            if(list[j]>list[j+1]):\n",
    "                temp=list[j]\n",
    "                list[j]=list[j+1]\n",
    "                list[j+1]=temp\n",
    "bsort(list)\n",
    "list"
   ]
  },
  {
   "cell_type": "markdown",
   "metadata": {},
   "source": [
    "## Mean Median Mode"
   ]
  },
  {
   "cell_type": "code",
   "execution_count": null,
   "metadata": {},
   "outputs": [],
   "source": [
    "data = [5,4,3,2,1,4,6,7,8,9,22,44,4,3]\n",
    "mean=0\n",
    "median=0\n",
    "mode=0\n",
    "\n",
    "sum1=0\n",
    "count=0\n",
    "\n",
    "for i in data:\n",
    "    sum1+=i\n",
    "    count+=1\n",
    "mean=sum1/count\n",
    "\n",
    "\n",
    "\n",
    "bsort(data)\n",
    "print(\"Sorted list-> \"+str(data))\n",
    "\n",
    "if count%2==0:\n",
    "    median = (data[(count//2)-1]+data[(count//2)])/2\n",
    "else:\n",
    "    median = data[count//2]\n",
    "\n",
    "\n",
    "\n",
    "mode_dict={}\n",
    "\n",
    "\n",
    "for i in  data:\n",
    "    if not i in mode_dict:\n",
    "        mode_dict[i]=1\n",
    "    else:\n",
    "        mode_dict[i]+=1\n",
    "\n",
    "max=0\n",
    "\n",
    "for i in mode_dict:\n",
    "    if mode_dict[i]>max:\n",
    "        max=mode_dict[i]\n",
    "        mode=i\n",
    "\n",
    "\n",
    "print(\"Mean--> \", mean)\n",
    "print(\"Median--> \",median)\n",
    "print(\"Mode--> \",mode)"
   ]
  },
  {
   "cell_type": "markdown",
   "metadata": {},
   "source": [
    "## Standard Deviation"
   ]
  },
  {
   "cell_type": "code",
   "execution_count": 10,
   "metadata": {},
   "outputs": [
    {
     "name": "stdout",
     "output_type": "stream",
     "text": [
      "Variance:  120.20408163265306\n",
      "Standard Deviation:  10.963762202485652\n"
     ]
    }
   ],
   "source": [
    "temp=0\n",
    "\n",
    "for i in range(0,count):\n",
    "    temp=temp + ((data[i]-mean)**2)\n",
    "\n",
    "variance = temp/count\n",
    "sd=(variance)**(1/2)\n",
    "\n",
    "print(\"Variance: \",variance)\n",
    "print(\"Standard Deviation: \",sd)"
   ]
  },
  {
   "cell_type": "code",
   "execution_count": 11,
   "metadata": {},
   "outputs": [],
   "source": [
    "import numpy as np\n",
    "from scipy import stats\n"
   ]
  },
  {
   "cell_type": "code",
   "execution_count": 12,
   "metadata": {},
   "outputs": [
    {
     "name": "stdout",
     "output_type": "stream",
     "text": [
      "8.714285714285714\n",
      "4.5\n",
      "4 ---> 3 times\n",
      "120.20408163265306\n",
      "10.963762202485652\n"
     ]
    }
   ],
   "source": [
    "print(np.mean(data))\n",
    "print(np.median(data))\n",
    "print(stats.mode(data).mode[0],'--->',stats.mode(data).count[0],'times')\n",
    "print(np.var(data))\n",
    "print(np.std(data))"
   ]
  },
  {
   "cell_type": "markdown",
   "metadata": {},
   "source": [
    "## Min-Max Normalization"
   ]
  },
  {
   "cell_type": "code",
   "execution_count": 13,
   "metadata": {},
   "outputs": [
    {
     "name": "stdout",
     "output_type": "stream",
     "text": [
      "Max-->  44\n",
      "Min-->  1\n",
      "Min Max Normalization-->  [0.0, 0.023255813953488372, 0.046511627906976744, 0.06976744186046512, 0.06976744186046512, 0.09302325581395349, 0.11627906976744186, 0.13953488372093023, 0.16279069767441862, 0.18604651162790697, 0.4883720930232558, 1.0, 0.06976744186046512, 0.046511627906976744]\n"
     ]
    }
   ],
   "source": [
    "min=data[0]\n",
    "max=data[0]\n",
    "for i in range(0,count):\n",
    "    if data[i]>max:\n",
    "        max=data[i]\n",
    "    if data[i]<min:\n",
    "        min=data[i]\n",
    "        \n",
    "min_max_normal = []\n",
    "for i in range(0,count):\n",
    "    min_max_normal.append((data[i]-min)/(print(metrics.classification_report(y_test,pred))max-min))\n",
    "\n",
    "    \n",
    "print('Max--> ',max)\n",
    "print('Min--> ',min)\n",
    "print('Min Max Normalization--> ',min_max_normal)"
   ]
  },
  {
   "cell_type": "markdown",
   "metadata": {},
   "source": [
    "## Standardization"
   ]
  },
  {
   "cell_type": "code",
   "execution_count": 14,
   "metadata": {},
   "outputs": [
    {
     "name": "stdout",
     "output_type": "stream",
     "text": [
      "Standardization-->  [-0.703616657477008, -0.6124070907670255, -0.5211975240570429, -0.4299879573470604, -0.4299879573470604, -0.3387783906370779, -0.24756882392709534, -0.15635925721711283, -0.0651496905071303, 0.026059876202852217, 1.211784243432625, 3.21839471105224, -0.4299879573470604, -0.5211975240570429]\n"
     ]
    }
   ],
   "source": [
    "standard=[]\n",
    "for i in range(0,count):\n",
    "    standard.append((data[i]-mean)/sd)\n",
    "    \n",
    "print('Standardization--> ',standard)"
   ]
  },
  {
   "cell_type": "code",
   "execution_count": null,
   "metadata": {},
   "outputs": [],
   "source": []
  }
 ],
 "metadata": {
  "kernelspec": {
   "display_name": "Python 3",
   "language": "python",
   "name": "python3"
  },
  "language_info": {
   "codemirror_mode": {
    "name": "ipython",
    "version": 3
   },
   "file_extension": ".py",
   "mimetype": "text/x-python",
   "name": "python",
   "nbconvert_exporter": "python",
   "pygments_lexer": "ipython3",
   "version": "3.8.5"
  }
 },
 "nbformat": 4,
 "nbformat_minor": 4
}
