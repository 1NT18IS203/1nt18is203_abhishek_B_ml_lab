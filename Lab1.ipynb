{
 "cells": [
  {
   "cell_type": "markdown",
   "metadata": {},
   "source": [
    "## Calculator"
   ]
  },
  {
   "cell_type": "code",
   "execution_count": 2,
   "metadata": {},
   "outputs": [
    {
     "name": "stdout",
     "output_type": "stream",
     "text": [
      "Select option\n",
      "1.Add\n",
      "2.Subtract\n",
      "3.MUltiply\n",
      "4.Divide\n",
      "5.Mod\n",
      "Enter choice3\n",
      "Enter first number45\n",
      "Enter second number10\n",
      "450\n"
     ]
    }
   ],
   "source": [
    "def add(x,y):\n",
    "    return x+y\n",
    "def sub(x,y):\n",
    "    return x-y\n",
    "def mul(x,y):\n",
    "    return x*y\n",
    "def div(x,y):\n",
    "    return x/y\n",
    "def mod(x,y):\n",
    "    return x%y\n",
    "\n",
    "\n",
    "print(\"Select option\")\n",
    "print(\"1.Add\")\n",
    "print(\"2.Subtract\")\n",
    "print(\"3.MUltiply\")\n",
    "print(\"4.Divide\")\n",
    "print(\"5.Mod\")\n",
    "\n",
    "op=input(\"Enter choice\")\n",
    "num1=int(input(\"Enter first number\"))\n",
    "num2=int(input(\"Enter second number\"))\n",
    "\n",
    "if(op=='1'):\n",
    "    print(add(num1,num2))\n",
    "elif(op=='2'):\n",
    "    print(sub(num1,num2))\n",
    "elif(op=='3'):\n",
    "    print(mul(num1,num2))\n",
    "elif(op=='4'):\n",
    "    print(div(num1,num2))\n",
    "elif(op=='5'):\n",
    "    print(mod(num1,num2))\n",
    "else:\n",
    "    print(\"Invalid Operation\")"
   ]
  },
  {
   "cell_type": "code",
   "execution_count": null,
   "metadata": {},
   "outputs": [],
   "source": []
  }
 ],
 "metadata": {
  "kernelspec": {
   "display_name": "Python 3",
   "language": "python",
   "name": "python3"
  },
  "language_info": {
   "codemirror_mode": {
    "name": "ipython",
    "version": 3
   },
   "file_extension": ".py",
   "mimetype": "text/x-python",
   "name": "python",
   "nbconvert_exporter": "python",
   "pygments_lexer": "ipython3",
   "version": "3.8.5"
  }
 },
 "nbformat": 4,
 "nbformat_minor": 4
}
